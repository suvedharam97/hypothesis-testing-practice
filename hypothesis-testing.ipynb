{
 "cells": [
  {
   "cell_type": "code",
   "execution_count": 1,
   "metadata": {},
   "outputs": [],
   "source": [
    "import numpy as np\n",
    "import pandas as pd\n",
    "import scipy as sp"
   ]
  },
  {
   "cell_type": "markdown",
   "metadata": {},
   "source": [
    "# One Sample Test"
   ]
  },
  {
   "cell_type": "code",
   "execution_count": 6,
   "metadata": {},
   "outputs": [
    {
     "name": "stdout",
     "output_type": "stream",
     "text": [
      "48\n"
     ]
    }
   ],
   "source": [
    "scores = [3.2,2.9,3.7,2.5,3.1,3.8,2.7,3.0,3.3,2.8,3.6,2.6,3.5,2.4,3.4,2.3,2.2,4.0,2.1,3.8,2.9,3.7,2.5,3.1,3.6,2.7,3.0,3.3,2.8,3.5,2.6,3.4,3.2,2.3,3.9,2.2,4.0,2.1,3.7,2.9,3.6,2.5,3.1,3.8,2.7,3.0,3.3,2.8]\n",
    "print(len(scores))"
   ]
  },
  {
   "cell_type": "code",
   "execution_count": 4,
   "metadata": {},
   "outputs": [
    {
     "name": "stdout",
     "output_type": "stream",
     "text": [
      "Mean: 3.0645833333333337\n"
     ]
    }
   ],
   "source": [
    "mean = np.mean(scores)\n",
    "print(\"Mean:\", mean)"
   ]
  },
  {
   "cell_type": "code",
   "execution_count": null,
   "metadata": {},
   "outputs": [],
   "source": [
    "s = np.std(scores, ddof=1) # sample standard deviation"
   ]
  },
  {
   "cell_type": "markdown",
   "metadata": {},
   "source": [
    "### Z Test\n",
    "<br>Want to check is students have atleast 3 on average in test\n",
    "<br> Ho : Mu0 <= 3 \n",
    "<br> Ha : Mu0 > 3\n",
    "<br> Test Statistic : Z score\n",
    "<br> Significance level : 0.05\n",
    "<br> One sided test"
   ]
  },
  {
   "cell_type": "code",
   "execution_count": 9,
   "metadata": {},
   "outputs": [
    {
     "name": "stdout",
     "output_type": "stream",
     "text": [
      "Z scores: 0.8195475674031215\n"
     ]
    }
   ],
   "source": [
    "z = (mean-3) / (s/np.sqrt(len(scores)))\n",
    "print(\"Z scores:\", z)   "
   ]
  },
  {
   "cell_type": "code",
   "execution_count": null,
   "metadata": {},
   "outputs": [
    {
     "name": "stdout",
     "output_type": "stream",
     "text": [
      "P-value: 0.20623703724593867\n"
     ]
    }
   ],
   "source": [
    "alpha =0.05\n",
    "p_value = sp.stats.norm.sf(abs(z)) # right-tailed test (e.g., more than)\n",
    "#p_value_two_tailed = 2 * norm.sf(abs(z_score)) # two-tailed test\n",
    "#p_value = norm.cdf(z_score)  # for left-tailed test (e.g., less than)\n",
    "print(\"P-value:\", p_value)\n"
   ]
  },
  {
   "cell_type": "code",
   "execution_count": 20,
   "metadata": {},
   "outputs": [
    {
     "name": "stdout",
     "output_type": "stream",
     "text": [
      "Fail to reject the null hypothesis, there is no statistical evidence that the students scored more than 3\n"
     ]
    }
   ],
   "source": [
    "if p_value < alpha:\n",
    "    print(\"Reject the null hypothesis. There is statistically significant evidence that the students scored more than 3\")\n",
    "else:\n",
    "    print(\"Fail to reject the null hypothesis, there is no statistical evidence that the students scored more than 3\")"
   ]
  },
  {
   "cell_type": "code",
   "execution_count": 21,
   "metadata": {},
   "outputs": [
    {
     "name": "stdout",
     "output_type": "stream",
     "text": [
      "16\n"
     ]
    }
   ],
   "source": [
    "scores = [3.2,2.9,3.7,2.5,3.1,3.8,2.7,3.0,3.3,2.8,3.6,2.6,3.5,2.4,3.4,2.3]\n",
    "print(len(scores))"
   ]
  },
  {
   "cell_type": "code",
   "execution_count": 22,
   "metadata": {},
   "outputs": [
    {
     "name": "stdout",
     "output_type": "stream",
     "text": [
      "Mean: 3.05\n"
     ]
    }
   ],
   "source": [
    "mean = np.mean(scores)\n",
    "print(\"Mean:\", mean)"
   ]
  },
  {
   "cell_type": "code",
   "execution_count": 27,
   "metadata": {},
   "outputs": [
    {
     "name": "stdout",
     "output_type": "stream",
     "text": [
      "Standard deviation: 0.47609522856952335\n"
     ]
    }
   ],
   "source": [
    "s = np.std(scores,ddof=1) # sample standard deviation\n",
    "print(\"Standard deviation:\", s)"
   ]
  },
  {
   "cell_type": "code",
   "execution_count": 29,
   "metadata": {},
   "outputs": [
    {
     "name": "stdout",
     "output_type": "stream",
     "text": [
      "T score: 0.42008402520840143\n"
     ]
    }
   ],
   "source": [
    "t = (mean-3) / (s/np.sqrt(len(scores)))\n",
    "print(\"T score:\", t)\n",
    "alpha = 0.05"
   ]
  },
  {
   "cell_type": "code",
   "execution_count": null,
   "metadata": {},
   "outputs": [
    {
     "name": "stdout",
     "output_type": "stream",
     "text": [
      "P-value: 0.3401898049698233\n"
     ]
    }
   ],
   "source": [
    "p_value = sp.stats.t.sf(abs(t), df=len(scores)-1) # one-tailed test,right-tailed test\n",
    "# For left-tailed test, use the CDF (or sf of -t_stat)\n",
    "#p_val_one_tailed = t.cdf(t_stat, df=len(data)-1)\n",
    "#t_stat, p_val_two_tailed = ttest_1samp(data, popmean)\n",
    "\n",
    "print(\"P-value:\", p_value)"
   ]
  },
  {
   "cell_type": "code",
   "execution_count": 32,
   "metadata": {},
   "outputs": [
    {
     "name": "stdout",
     "output_type": "stream",
     "text": [
      "Fail to reject the null hypothesis, there is no statistical evidence that the students scored more than 3\n"
     ]
    }
   ],
   "source": [
    "if p_value < alpha:\n",
    "    print(\"Reject the null hypothesis. There is statistically significant evidence that the students scored more than 3\")\n",
    "else:\n",
    "    print(\"Fail to reject the null hypothesis, there is no statistical evidence that the students scored more than 3\")"
   ]
  },
  {
   "cell_type": "markdown",
   "metadata": {},
   "source": [
    "# Two Sample Test"
   ]
  },
  {
   "cell_type": "markdown",
   "metadata": {},
   "source": [
    "Let’s say you are in charge of shipments at Amazon.\n",
    "\n",
    "There are two types of parcels you can ship packages in, say A and B. Packages delivered in parcel A are damaged during shipment with probability p, while packages delivered in parcel B are damaged with probability q.\n",
    "\n",
    "What statistical test could you use to determine which parcel is better to use? What would the statistical test conclude if p=0.4 and q=0.6?\n",
    "\n",
    "Note: Assume the values of p and q were obtained from data recorded from 200 shipments, half delivered with parcel A and half delivered with parcel B."
   ]
  },
  {
   "cell_type": "code",
   "execution_count": null,
   "metadata": {},
   "outputs": [
    {
     "name": "stdout",
     "output_type": "stream",
     "text": [
      "Z score: -2.8284271247461894\n",
      "P-value: 0.002338867490523638\n",
      "Reject the null hypothesis. There is statistically significant evidence that the proportions are different\n"
     ]
    }
   ],
   "source": [
    "#Proportion Test with z-test\n",
    "n1 = n2 = n = 100\n",
    "pa = 0.4\n",
    "pb = 0.6\n",
    "\n",
    "alpha = 0.05\n",
    "\n",
    "#Null hypothesis: pa >= pb\n",
    "#Alternative hypothesis: pa < pb \n",
    "\n",
    "p= (n1 *pa + n2 * pb) / (n1 + n2)   \n",
    "\n",
    "z = (pa - pb) / np.sqrt(p * (1 - p) * (1/n1 + 1/n2))\n",
    "print(\"Z score:\", z)\n",
    "p_value = sp.stats.norm.sf(abs(z))\n",
    "print(\"P-value:\", p_value)\n",
    "\n",
    "if p_value < alpha:\n",
    "    print(\"Reject the null hypothesis. There is statistically significant evidence that the proportions are different\")\n",
    "else:\n",
    "    print(\"Fail to reject the null hypothesis, there is no statistical evidence that the proportions are different\")\n"
   ]
  }
 ],
 "metadata": {
  "kernelspec": {
   "display_name": ".venv",
   "language": "python",
   "name": "python3"
  },
  "language_info": {
   "codemirror_mode": {
    "name": "ipython",
    "version": 3
   },
   "file_extension": ".py",
   "mimetype": "text/x-python",
   "name": "python",
   "nbconvert_exporter": "python",
   "pygments_lexer": "ipython3",
   "version": "3.9.6"
  }
 },
 "nbformat": 4,
 "nbformat_minor": 2
}
